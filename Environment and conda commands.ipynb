{
 "cells": [
  {
   "cell_type": "markdown",
   "metadata": {},
   "source": [
    "#                                            `Conda commands`\n",
    "\n",
    "## Should be launched using by \n",
    "## Pressing windows buton and type anaconda prompt\n",
    "\n",
    "Issue below commands"
   ]
  },
  {
   "cell_type": "markdown",
   "metadata": {},
   "source": [
    "# Verify conda is installed, check version \n",
    "\n",
    "conda -info"
   ]
  },
  {
   "cell_type": "markdown",
   "metadata": {},
   "source": [
    "# Update conda package and environment manager\n",
    "\n",
    "conda update conda   #Update conda package and environment manager"
   ]
  },
  {
   "cell_type": "markdown",
   "metadata": {},
   "source": [
    "# Update the anaconda meta package\n",
    "\n",
    "conda update anaconda         # updates anaconda with all associated packages to its higher/latest version, requires internet connectivity"
   ]
  },
  {
   "cell_type": "markdown",
   "metadata": {},
   "source": [
    "# Managing Environments "
   ]
  },
  {
   "cell_type": "markdown",
   "metadata": {},
   "source": [
    "# Get a list of all my environments\n",
    "\n",
    "conda info --envs"
   ]
  },
  {
   "cell_type": "markdown",
   "metadata": {},
   "source": [
    "# Active environment shown with *\n",
    "\n",
    "conda info -e"
   ]
  },
  {
   "cell_type": "markdown",
   "metadata": {},
   "source": [
    "# Create an environment and install program(s)\n",
    "# Use either of one command\n",
    "\n",
    "conda create --name snowflakes biopython\n",
    "\n",
    "conda create -n snowflakes biopython "
   ]
  },
  {
   "cell_type": "markdown",
   "metadata": {},
   "source": [
    "# Activate the new environment to use it\n",
    "\n",
    "conda activate snowflakes"
   ]
  },
  {
   "cell_type": "markdown",
   "metadata": {},
   "source": [
    "# Deactivate the environment\n",
    "\n",
    "conda deactivate"
   ]
  },
  {
   "cell_type": "markdown",
   "metadata": {},
   "source": [
    "# Create a new environment, specify Python version\n",
    "\n",
    "\n",
    "conda create -n bunnies python=3.4 astroid"
   ]
  },
  {
   "cell_type": "markdown",
   "metadata": {},
   "source": [
    "# Make exact copy of an environment\n",
    "\n",
    "conda create -n flowers --clone snowflakes"
   ]
  },
  {
   "cell_type": "markdown",
   "metadata": {},
   "source": [
    "# Delete an environment\n",
    "\n",
    "conda remove -n flowers --all"
   ]
  },
  {
   "cell_type": "markdown",
   "metadata": {},
   "source": [
    "# Save current environment to a file\n",
    "\n",
    "conda env export > puppies.yml"
   ]
  },
  {
   "cell_type": "markdown",
   "metadata": {},
   "source": [
    "# Load environment from a file\n",
    "\n",
    "conda env create -f puppies.yml"
   ]
  },
  {
   "cell_type": "markdown",
   "metadata": {},
   "source": [
    "# Managing Python "
   ]
  },
  {
   "cell_type": "markdown",
   "metadata": {},
   "source": [
    "# Check versions of Python available to install\n",
    "\n",
    "\n",
    "conda search --full-name python\n",
    "\n",
    "or\n",
    "\n",
    "conda search -f python"
   ]
  },
  {
   "cell_type": "markdown",
   "metadata": {},
   "source": [
    "# Install different version of Python in new environment\n",
    "\n",
    "conda create -n snakes python=3.4"
   ]
  },
  {
   "cell_type": "markdown",
   "metadata": {},
   "source": [
    "# Managing .condarc Configuration \n",
    "\n",
    "Get all keys and values from my .condarc file\n",
    "\n",
    "conda config --get"
   ]
  },
  {
   "cell_type": "markdown",
   "metadata": {},
   "source": [
    "# Get value of the key channels from .condarc file\n",
    "\n",
    "conda config --get channels"
   ]
  },
  {
   "cell_type": "markdown",
   "metadata": {},
   "source": [
    "# Add a new value to channels so conda looks for packages in this location\n",
    "\n",
    "conda config --add channels pandas"
   ]
  },
  {
   "cell_type": "markdown",
   "metadata": {},
   "source": [
    "# Managing Packages, Including Python "
   ]
  },
  {
   "cell_type": "markdown",
   "metadata": {},
   "source": [
    "# View list of packages and versions installed in active environment\n",
    "\n",
    "conda list"
   ]
  },
  {
   "cell_type": "markdown",
   "metadata": {},
   "source": [
    "# Search for a package to see if it is available to conda install\n",
    "\n",
    "conda search beautiful-soup"
   ]
  },
  {
   "cell_type": "markdown",
   "metadata": {},
   "source": [
    "# Install a new package\n",
    "\n",
    "NOTE: If you do not include the name of the environment, it will install in the current active environment.\n",
    "\n",
    "    \n",
    "conda install -n bunnies beautiful-soup"
   ]
  },
  {
   "cell_type": "markdown",
   "metadata": {},
   "source": [
    "# Update a package in the current environment\n",
    "\n",
    "conda update beautiful-soup"
   ]
  },
  {
   "cell_type": "markdown",
   "metadata": {},
   "source": [
    "# earch for a package in a specific location (the pandas channel on Anaconda.org)\n",
    "\n",
    "conda search --override-channels -c pandas bottleneck"
   ]
  },
  {
   "cell_type": "markdown",
   "metadata": {},
   "source": [
    "# Install a package from a specific channel\n",
    "\n",
    "conda install -c pandas bottleneck"
   ]
  },
  {
   "cell_type": "markdown",
   "metadata": {},
   "source": [
    "# Search for a package to see if it is available from the Anaconda repository\n",
    "\n",
    "conda search --override-channels -c defaults beautiful-soup"
   ]
  },
  {
   "cell_type": "markdown",
   "metadata": {},
   "source": [
    "# Install commercial Continuum packages\n",
    "\n",
    "conda install iopro accelerate"
   ]
  },
  {
   "cell_type": "markdown",
   "metadata": {},
   "source": [
    "# Build a Conda package from a Python Package Index (PyPi) Package\n",
    "\n",
    "conda skeleton pypi pyinstrument\n",
    "\n",
    "conda build pyinstrument "
   ]
  },
  {
   "cell_type": "markdown",
   "metadata": {},
   "source": [
    "# Removing Packages or Environments "
   ]
  },
  {
   "cell_type": "markdown",
   "metadata": {},
   "source": [
    "# Remove one package from any named environment\n",
    "\n",
    "conda remove --name bunnies beautiful-soup"
   ]
  },
  {
   "cell_type": "markdown",
   "metadata": {},
   "source": [
    "# Remove one package from the active environment\n",
    "\n",
    "conda remove beautiful-soup"
   ]
  },
  {
   "cell_type": "markdown",
   "metadata": {},
   "source": [
    "# Remove multiple packages from any environment\n",
    "\n",
    "conda remove --name bunnies beautiful-soup astroid"
   ]
  },
  {
   "cell_type": "markdown",
   "metadata": {},
   "source": [
    "# Remove an environment\n",
    "\n",
    "conda remove --name snakes --all"
   ]
  },
  {
   "cell_type": "markdown",
   "metadata": {},
   "source": [
    "# To install multiple packages in one go by storing all packages in one file and provide that file (requirements.txt) to below command, if package is already installed, it will be updated else will be installed freshly\n",
    "\n",
    "requirements.txt may contain packages as below (for example)\n",
    "BeautifulSoup==3.2.0\n",
    "Django==1.3\n",
    "Fabric==1.2.0\n",
    "Jinja2==2.5.5\n",
    "PyYAML==3.09\n",
    "Pygments==1.4\n",
    "SQLAlchemy==0.7.1\n",
    "South==0.7.3\n",
    "amqplib==0.6.1\n",
    "anyjson==0.3\n",
    "\n",
    "\n",
    "pip install -U -r requirements.txt "
   ]
  },
  {
   "cell_type": "code",
   "execution_count": null,
   "metadata": {},
   "outputs": [],
   "source": []
  }
 ],
 "metadata": {
  "kernelspec": {
   "display_name": "Python 3",
   "language": "python",
   "name": "python3"
  },
  "language_info": {
   "codemirror_mode": {
    "name": "ipython",
    "version": 3
   },
   "file_extension": ".py",
   "mimetype": "text/x-python",
   "name": "python",
   "nbconvert_exporter": "python",
   "pygments_lexer": "ipython3",
   "version": "3.7.4"
  }
 },
 "nbformat": 4,
 "nbformat_minor": 2
}
