{
 "cells": [
  {
   "cell_type": "code",
   "execution_count": null,
   "metadata": {},
   "outputs": [],
   "source": [
    "# Shift function of pandas"
   ]
  },
  {
   "cell_type": "code",
   "execution_count": 3,
   "metadata": {},
   "outputs": [
    {
     "name": "stdout",
     "output_type": "stream",
     "text": [
      "   DATE  PRICE  VOLUME\n",
      "0     1    214     100\n",
      "1     2    234     200\n",
      "2     3    253     300\n",
      "3     4    272     400\n",
      "4     5    291     500\n"
     ]
    }
   ],
   "source": [
    "import pandas as pd\n",
    "import numpy as np\n",
    "df = pd.DataFrame({'DATE': [1, 2, 3, 4, 5],\n",
    "                   'VOLUME': [100, 200, 300,400,500],\n",
    "                   'PRICE': [214, 234, 253,272,291]})\n",
    "print(df)"
   ]
  },
  {
   "cell_type": "code",
   "execution_count": 4,
   "metadata": {},
   "outputs": [
    {
     "data": {
      "text/html": [
       "<div>\n",
       "<style scoped>\n",
       "    .dataframe tbody tr th:only-of-type {\n",
       "        vertical-align: middle;\n",
       "    }\n",
       "\n",
       "    .dataframe tbody tr th {\n",
       "        vertical-align: top;\n",
       "    }\n",
       "\n",
       "    .dataframe thead th {\n",
       "        text-align: right;\n",
       "    }\n",
       "</style>\n",
       "<table border=\"1\" class=\"dataframe\">\n",
       "  <thead>\n",
       "    <tr style=\"text-align: right;\">\n",
       "      <th></th>\n",
       "      <th>DATE</th>\n",
       "      <th>PRICE</th>\n",
       "      <th>VOLUME</th>\n",
       "    </tr>\n",
       "  </thead>\n",
       "  <tbody>\n",
       "    <tr>\n",
       "      <th>0</th>\n",
       "      <td>NaN</td>\n",
       "      <td>NaN</td>\n",
       "      <td>NaN</td>\n",
       "    </tr>\n",
       "    <tr>\n",
       "      <th>1</th>\n",
       "      <td>1.0</td>\n",
       "      <td>214.0</td>\n",
       "      <td>100.0</td>\n",
       "    </tr>\n",
       "    <tr>\n",
       "      <th>2</th>\n",
       "      <td>2.0</td>\n",
       "      <td>234.0</td>\n",
       "      <td>200.0</td>\n",
       "    </tr>\n",
       "    <tr>\n",
       "      <th>3</th>\n",
       "      <td>3.0</td>\n",
       "      <td>253.0</td>\n",
       "      <td>300.0</td>\n",
       "    </tr>\n",
       "    <tr>\n",
       "      <th>4</th>\n",
       "      <td>4.0</td>\n",
       "      <td>272.0</td>\n",
       "      <td>400.0</td>\n",
       "    </tr>\n",
       "  </tbody>\n",
       "</table>\n",
       "</div>"
      ],
      "text/plain": [
       "   DATE  PRICE  VOLUME\n",
       "0   NaN    NaN     NaN\n",
       "1   1.0  214.0   100.0\n",
       "2   2.0  234.0   200.0\n",
       "3   3.0  253.0   300.0\n",
       "4   4.0  272.0   400.0"
      ]
     },
     "execution_count": 4,
     "metadata": {},
     "output_type": "execute_result"
    }
   ],
   "source": [
    "df.shift(1)"
   ]
  },
  {
   "cell_type": "code",
   "execution_count": 10,
   "metadata": {},
   "outputs": [
    {
     "data": {
      "text/html": [
       "<div>\n",
       "<style scoped>\n",
       "    .dataframe tbody tr th:only-of-type {\n",
       "        vertical-align: middle;\n",
       "    }\n",
       "\n",
       "    .dataframe tbody tr th {\n",
       "        vertical-align: top;\n",
       "    }\n",
       "\n",
       "    .dataframe thead th {\n",
       "        text-align: right;\n",
       "    }\n",
       "</style>\n",
       "<table border=\"1\" class=\"dataframe\">\n",
       "  <thead>\n",
       "    <tr style=\"text-align: right;\">\n",
       "      <th></th>\n",
       "      <th>DATE</th>\n",
       "      <th>PRICE</th>\n",
       "      <th>VOLUME</th>\n",
       "    </tr>\n",
       "  </thead>\n",
       "  <tbody>\n",
       "    <tr>\n",
       "      <th>0</th>\n",
       "      <td>100</td>\n",
       "      <td>100</td>\n",
       "      <td>100</td>\n",
       "    </tr>\n",
       "    <tr>\n",
       "      <th>1</th>\n",
       "      <td>100</td>\n",
       "      <td>100</td>\n",
       "      <td>100</td>\n",
       "    </tr>\n",
       "    <tr>\n",
       "      <th>2</th>\n",
       "      <td>100</td>\n",
       "      <td>100</td>\n",
       "      <td>100</td>\n",
       "    </tr>\n",
       "    <tr>\n",
       "      <th>3</th>\n",
       "      <td>1</td>\n",
       "      <td>214</td>\n",
       "      <td>100</td>\n",
       "    </tr>\n",
       "    <tr>\n",
       "      <th>4</th>\n",
       "      <td>2</td>\n",
       "      <td>234</td>\n",
       "      <td>200</td>\n",
       "    </tr>\n",
       "  </tbody>\n",
       "</table>\n",
       "</div>"
      ],
      "text/plain": [
       "   DATE  PRICE  VOLUME\n",
       "0   100    100     100\n",
       "1   100    100     100\n",
       "2   100    100     100\n",
       "3     1    214     100\n",
       "4     2    234     200"
      ]
     },
     "execution_count": 10,
     "metadata": {},
     "output_type": "execute_result"
    }
   ],
   "source": [
    "df.shift(3,fill_value=100)"
   ]
  },
  {
   "cell_type": "code",
   "execution_count": 11,
   "metadata": {},
   "outputs": [
    {
     "name": "stdout",
     "output_type": "stream",
     "text": [
      "   DATE  PRICE  VOLUME  PREV_DAY_PRICE\n",
      "0     1    214     100               0\n",
      "1     2    234     200             214\n",
      "2     3    253     300             234\n",
      "3     4    272     400             253\n",
      "4     5    291     500             272\n"
     ]
    }
   ],
   "source": [
    "df['PREV_DAY_PRICE'] = df['PRICE'].shift(1,fill_value=0)\n",
    "print(df)"
   ]
  },
  {
   "cell_type": "code",
   "execution_count": 12,
   "metadata": {},
   "outputs": [],
   "source": [
    "df['TOMORROW_PRICE'] = df['PRICE'].shift(-1,fill_value=0)"
   ]
  },
  {
   "cell_type": "code",
   "execution_count": 13,
   "metadata": {},
   "outputs": [
    {
     "data": {
      "text/html": [
       "<div>\n",
       "<style scoped>\n",
       "    .dataframe tbody tr th:only-of-type {\n",
       "        vertical-align: middle;\n",
       "    }\n",
       "\n",
       "    .dataframe tbody tr th {\n",
       "        vertical-align: top;\n",
       "    }\n",
       "\n",
       "    .dataframe thead th {\n",
       "        text-align: right;\n",
       "    }\n",
       "</style>\n",
       "<table border=\"1\" class=\"dataframe\">\n",
       "  <thead>\n",
       "    <tr style=\"text-align: right;\">\n",
       "      <th></th>\n",
       "      <th>DATE</th>\n",
       "      <th>PRICE</th>\n",
       "      <th>VOLUME</th>\n",
       "      <th>PREV_DAY_PRICE</th>\n",
       "      <th>TOMORROW_PRICE</th>\n",
       "    </tr>\n",
       "  </thead>\n",
       "  <tbody>\n",
       "    <tr>\n",
       "      <th>0</th>\n",
       "      <td>1</td>\n",
       "      <td>214</td>\n",
       "      <td>100</td>\n",
       "      <td>0</td>\n",
       "      <td>234</td>\n",
       "    </tr>\n",
       "    <tr>\n",
       "      <th>1</th>\n",
       "      <td>2</td>\n",
       "      <td>234</td>\n",
       "      <td>200</td>\n",
       "      <td>214</td>\n",
       "      <td>253</td>\n",
       "    </tr>\n",
       "    <tr>\n",
       "      <th>2</th>\n",
       "      <td>3</td>\n",
       "      <td>253</td>\n",
       "      <td>300</td>\n",
       "      <td>234</td>\n",
       "      <td>272</td>\n",
       "    </tr>\n",
       "    <tr>\n",
       "      <th>3</th>\n",
       "      <td>4</td>\n",
       "      <td>272</td>\n",
       "      <td>400</td>\n",
       "      <td>253</td>\n",
       "      <td>291</td>\n",
       "    </tr>\n",
       "    <tr>\n",
       "      <th>4</th>\n",
       "      <td>5</td>\n",
       "      <td>291</td>\n",
       "      <td>500</td>\n",
       "      <td>272</td>\n",
       "      <td>0</td>\n",
       "    </tr>\n",
       "  </tbody>\n",
       "</table>\n",
       "</div>"
      ],
      "text/plain": [
       "   DATE  PRICE  VOLUME  PREV_DAY_PRICE  TOMORROW_PRICE\n",
       "0     1    214     100               0             234\n",
       "1     2    234     200             214             253\n",
       "2     3    253     300             234             272\n",
       "3     4    272     400             253             291\n",
       "4     5    291     500             272               0"
      ]
     },
     "execution_count": 13,
     "metadata": {},
     "output_type": "execute_result"
    }
   ],
   "source": [
    "df"
   ]
  },
  {
   "cell_type": "code",
   "execution_count": 15,
   "metadata": {},
   "outputs": [],
   "source": [
    "# mask()\n",
    "# The mask method is an application of the if-then condition for each element of a Series or DataFrame. \n",
    "# If Cond is True, then it uses the value from Other (default value is NaN) else would retain the original value. \n",
    "# This mask() method is quite similar to where().\n"
   ]
  },
  {
   "cell_type": "code",
   "execution_count": 16,
   "metadata": {},
   "outputs": [
    {
     "name": "stdout",
     "output_type": "stream",
     "text": [
      "    A   B   C\n",
      "0   0   1   2\n",
      "1   3   4   5\n",
      "2   6   7   8\n",
      "3   9  10  11\n",
      "4  12  13  14\n"
     ]
    }
   ],
   "source": [
    "df = pd.DataFrame(np.arange(15).reshape(-1, 3), columns=['A', 'B','C'])\n",
    "print(df)"
   ]
  },
  {
   "cell_type": "code",
   "execution_count": 17,
   "metadata": {},
   "outputs": [
    {
     "data": {
      "text/html": [
       "<div>\n",
       "<style scoped>\n",
       "    .dataframe tbody tr th:only-of-type {\n",
       "        vertical-align: middle;\n",
       "    }\n",
       "\n",
       "    .dataframe tbody tr th {\n",
       "        vertical-align: top;\n",
       "    }\n",
       "\n",
       "    .dataframe thead th {\n",
       "        text-align: right;\n",
       "    }\n",
       "</style>\n",
       "<table border=\"1\" class=\"dataframe\">\n",
       "  <thead>\n",
       "    <tr style=\"text-align: right;\">\n",
       "      <th></th>\n",
       "      <th>A</th>\n",
       "      <th>B</th>\n",
       "      <th>C</th>\n",
       "    </tr>\n",
       "  </thead>\n",
       "  <tbody>\n",
       "    <tr>\n",
       "      <th>0</th>\n",
       "      <td>0</td>\n",
       "      <td>1</td>\n",
       "      <td>-2</td>\n",
       "    </tr>\n",
       "    <tr>\n",
       "      <th>1</th>\n",
       "      <td>3</td>\n",
       "      <td>-4</td>\n",
       "      <td>5</td>\n",
       "    </tr>\n",
       "    <tr>\n",
       "      <th>2</th>\n",
       "      <td>-6</td>\n",
       "      <td>7</td>\n",
       "      <td>-8</td>\n",
       "    </tr>\n",
       "    <tr>\n",
       "      <th>3</th>\n",
       "      <td>9</td>\n",
       "      <td>-10</td>\n",
       "      <td>11</td>\n",
       "    </tr>\n",
       "    <tr>\n",
       "      <th>4</th>\n",
       "      <td>-12</td>\n",
       "      <td>13</td>\n",
       "      <td>-14</td>\n",
       "    </tr>\n",
       "  </tbody>\n",
       "</table>\n",
       "</div>"
      ],
      "text/plain": [
       "    A   B   C\n",
       "0   0   1  -2\n",
       "1   3  -4   5\n",
       "2  -6   7  -8\n",
       "3   9 -10  11\n",
       "4 -12  13 -14"
      ]
     },
     "execution_count": 17,
     "metadata": {},
     "output_type": "execute_result"
    }
   ],
   "source": [
    "# mask operation to check if element is divided by 2 without any remainder. If match change the sign of the element as original\n",
    "\n",
    "df.mask(df % 2 == 0,-df)\n"
   ]
  },
  {
   "cell_type": "code",
   "execution_count": 20,
   "metadata": {},
   "outputs": [
    {
     "name": "stdout",
     "output_type": "stream",
     "text": [
      "   HEIGHT  WEIGHT\n",
      "A     170      50\n",
      "B      78      60\n",
      "C      99      70\n",
      "D     160      80\n",
      "E     160      90\n",
      "F     130      90\n",
      "G     155      90\n",
      "H      70      50\n",
      "I      70      60\n",
      "J      20      70\n"
     ]
    }
   ],
   "source": [
    "# nlargest()\n",
    "# On many occasions, we encounter situations where we need to find the top 3 or bottom five values for a Series or DataFrame \n",
    "# (like top-performing three students with their aggregate score or three bottom candidates with the total number of votes\n",
    "# obtained in an election.\n",
    "                                                                                                                            \n",
    "import pandas as pd\n",
    "import numpy as np\n",
    "df = pd.DataFrame({'HEIGHT': [170,78,99,160,160,130,155,70,70,20],\n",
    "                   'WEIGHT': [50,60,70,80,90,90,90,50,60,70]},\n",
    "                   index=['A','B','C','D','E','F','G','H','I','J'])\n",
    "print(df)"
   ]
  },
  {
   "cell_type": "code",
   "execution_count": 21,
   "metadata": {},
   "outputs": [
    {
     "name": "stdout",
     "output_type": "stream",
     "text": [
      "   HEIGHT  WEIGHT\n",
      "A     170      50\n",
      "D     160      80\n",
      "E     160      90\n"
     ]
    }
   ],
   "source": [
    "dfl = df.nlargest(3,'HEIGHT')\n",
    "print(dfl)"
   ]
  },
  {
   "cell_type": "code",
   "execution_count": 22,
   "metadata": {},
   "outputs": [
    {
     "name": "stdout",
     "output_type": "stream",
     "text": [
      "   HEIGHT  WEIGHT\n",
      "A     170      50\n",
      "D     160      80\n",
      "E     160      90\n"
     ]
    }
   ],
   "source": [
    "dfl = df.nlargest(2,'HEIGHT',keep='all')\n",
    "print(dfl)"
   ]
  },
  {
   "cell_type": "code",
   "execution_count": 23,
   "metadata": {},
   "outputs": [
    {
     "name": "stdout",
     "output_type": "stream",
     "text": [
      "   HEIGHT  WEIGHT\n",
      "A     170      50\n",
      "E     160      90\n"
     ]
    }
   ],
   "source": [
    "dfl = df.nlargest(2,'HEIGHT',keep='last')\n",
    "print(dfl)"
   ]
  },
  {
   "cell_type": "code",
   "execution_count": 24,
   "metadata": {},
   "outputs": [
    {
     "name": "stdout",
     "output_type": "stream",
     "text": [
      "   HEIGHT  WEIGHT\n",
      "A     170      50\n",
      "D     160      80\n"
     ]
    }
   ],
   "source": [
    "dfl = df.nlargest(2,'HEIGHT',keep='first')\n",
    "print(dfl)"
   ]
  },
  {
   "cell_type": "code",
   "execution_count": 25,
   "metadata": {},
   "outputs": [
    {
     "name": "stdout",
     "output_type": "stream",
     "text": [
      "   HEIGHT  WEIGHT\n",
      "A     170      50\n",
      "B      78      60\n",
      "C      99      70\n",
      "D     160      80\n",
      "E     160      90\n",
      "F     130      90\n",
      "G     155      90\n",
      "H      70      50\n",
      "I      70      60\n",
      "J      20      70\n"
     ]
    }
   ],
   "source": [
    "# nsmallest()\n",
    "# nsmallest() also works similarly but with idiom smallest filter in mind. Refer to the example below, \n",
    "# where we now use weight to find two smallest weights.\n",
    "import pandas as pd\n",
    "import numpy as np\n",
    "df = pd.DataFrame({'HEIGHT': [170,78,99,160,160,130,155,70,70,20],\n",
    "                   'WEIGHT': [50,60,70,80,90,90,90,50,60,70]},\n",
    "                   index=['A','B','C','D','E','F','G','H','I','J'])\n",
    "print(df)"
   ]
  },
  {
   "cell_type": "code",
   "execution_count": 27,
   "metadata": {},
   "outputs": [
    {
     "name": "stdout",
     "output_type": "stream",
     "text": [
      "   HEIGHT  WEIGHT\n",
      "A     170      50\n",
      "H      70      50\n",
      "B      78      60\n"
     ]
    }
   ],
   "source": [
    "dfs = df.nsmallest(3,'WEIGHT', keep='first')\n",
    "print(dfs)"
   ]
  },
  {
   "cell_type": "code",
   "execution_count": 28,
   "metadata": {},
   "outputs": [
    {
     "name": "stdout",
     "output_type": "stream",
     "text": [
      "   HEIGHT  WEIGHT\n",
      "H      70      50\n",
      "A     170      50\n",
      "I      70      60\n"
     ]
    }
   ],
   "source": [
    "dfs = df.nsmallest(3,'WEIGHT', keep='last')\n",
    "print(dfs)"
   ]
  },
  {
   "cell_type": "code",
   "execution_count": 29,
   "metadata": {},
   "outputs": [
    {
     "name": "stdout",
     "output_type": "stream",
     "text": [
      "   HEIGHT  WEIGHT\n",
      "A     170      50\n",
      "H      70      50\n",
      "B      78      60\n",
      "I      70      60\n"
     ]
    }
   ],
   "source": [
    "dfs = df.nsmallest(3,'WEIGHT', keep='all')\n",
    "print(dfs)"
   ]
  },
  {
   "cell_type": "code",
   "execution_count": 30,
   "metadata": {},
   "outputs": [],
   "source": [
    "# Cut function for binning\n",
    "# Sometimes numerical values make more sense if clustered together. For example, if we’re trying to model traffic \n",
    "# (#cars on road) with time of the day (minutes). The exact minute of an hour might not be that relevant for predicting \n",
    "# traffic as compared to actual period of the day like “Morning”, “Afternoon”, “Evening”, “Night”, “Late Night”. \n",
    "# Modeling traffic this way will be more intuitive and will avoid overfitting"
   ]
  },
  {
   "cell_type": "code",
   "execution_count": 42,
   "metadata": {},
   "outputs": [],
   "source": [
    "#Binning:\n",
    "def binning(col, cut_points, labels=None):\n",
    "  #Define min and max values:\n",
    "  minval = col.min()\n",
    "  maxval = col.max()\n",
    "\n",
    "  #create list by adding min and max to cut_points\n",
    "  break_points = [minval] + cut_points + [maxval]\n",
    "\n",
    "  #if no labels provided, use default labels 0 ... (n-1)\n",
    "  if not labels:\n",
    "    labels = range(len(cut_points)+1)\n",
    "\n",
    "  #Binning using cut function of pandas\n",
    "  colBin = pd.cut(col,bins=break_points,labels=labels,include_lowest=True)\n",
    "  return colBin\n",
    "\n"
   ]
  },
  {
   "cell_type": "code",
   "execution_count": 44,
   "metadata": {},
   "outputs": [],
   "source": [
    "pd.cut?  Bin values into discrete intervals.\n",
    "# Use `cut` when you need to segment and sort data values into bins. This function is also useful for going from a continuous variable to a \n",
    "# categorical variable\n",
    "\n",
    "# For example, `cut` could convert ages to groups of age ranges. Supports binning into an equal number of bins, or a\n",
    "# pre-specified array of bins."
   ]
  },
  {
   "cell_type": "code",
   "execution_count": 43,
   "metadata": {},
   "outputs": [
    {
     "name": "stdout",
     "output_type": "stream",
     "text": [
      "[-2, 90, 140, 190, 556]\n",
      "low          6\n",
      "medium       3\n",
      "high         2\n",
      "very high    4\n",
      "Name: LoanAmount_Bin, dtype: int64\n"
     ]
    }
   ],
   "source": [
    "#Binning age:\n",
    "cut_points = [90,140,190]\n",
    "labels = [\"low\",\"medium\",\"high\",\"very high\"]\n",
    "data = pd.DataFrame(data={'LoanAmount':[-1,-2,0,10,20,70,99,101,110,143,155,199,198,440,556]})\n",
    "data[\"LoanAmount_Bin\"] = binning(data[\"LoanAmount\"], cut_points, labels)\n",
    "print pd.value_counts(data[\"LoanAmount_Bin\"], sort=False)"
   ]
  },
  {
   "cell_type": "code",
   "execution_count": null,
   "metadata": {},
   "outputs": [],
   "source": []
  },
  {
   "cell_type": "code",
   "execution_count": null,
   "metadata": {},
   "outputs": [],
   "source": []
  }
 ],
 "metadata": {
  "kernelspec": {
   "display_name": "Python 2",
   "language": "python",
   "name": "python2"
  },
  "language_info": {
   "codemirror_mode": {
    "name": "ipython",
    "version": 2
   },
   "file_extension": ".py",
   "mimetype": "text/x-python",
   "name": "python",
   "nbconvert_exporter": "python",
   "pygments_lexer": "ipython2",
   "version": "2.7.16"
  }
 },
 "nbformat": 4,
 "nbformat_minor": 2
}
