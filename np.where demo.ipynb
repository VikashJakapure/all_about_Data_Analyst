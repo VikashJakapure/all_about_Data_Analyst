{
 "cells": [
  {
   "cell_type": "markdown",
   "metadata": {},
   "source": [
    "# Np.where demo"
   ]
  },
  {
   "cell_type": "code",
   "execution_count": null,
   "metadata": {},
   "outputs": [],
   "source": [
    "import numpy as np"
   ]
  },
  {
   "cell_type": "code",
   "execution_count": null,
   "metadata": {},
   "outputs": [],
   "source": [
    "# call numpy.where() with 3 arguments\n",
    "result = np.where([True, False, False], [1, 2, 4], [7, 8, 9])\n",
    "print('Contents of Numpy array returned: ', result, sep='\\n')"
   ]
  },
  {
   "cell_type": "code",
   "execution_count": null,
   "metadata": {},
   "outputs": [],
   "source": [
    "# Create a Numpy array from a list\n",
    "arr = np.array([11, 12, 13])\n",
    "# call numpy.where() with 3 arguments\n",
    "result = np.where(arr < 12, [1, 2, 4], [7, 8, 9]) \n",
    "print('Contents of Numpy array returned: ', result, sep='\\n')"
   ]
  },
  {
   "cell_type": "code",
   "execution_count": null,
   "metadata": {},
   "outputs": [],
   "source": [
    "print('*** Use numpy.where() condition argument only ***')\n",
    " \n",
    "# Create a numpy array from list\n",
    "arr = np.array([11, 12, 13, 14, 15, 16, 17, 15, 11, 12, 14, 15, 16, 17])\n",
    "# pass condition expression only\n",
    "result = np.where((arr > 12) & (arr < 16))\n",
    "if len(result) > 0:\n",
    "    print('Elements in given range exists at following Index :', result)\n",
    "else:\n",
    "    print('Element Not Found')"
   ]
  }
 ],
 "metadata": {
  "kernelspec": {
   "display_name": "Python 3",
   "language": "python",
   "name": "python3"
  }
 },
 "nbformat": 4,
 "nbformat_minor": 2
}
